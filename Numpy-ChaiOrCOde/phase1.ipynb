{
 "cells": [
  {
   "cell_type": "markdown",
   "id": "ad1f98a7",
   "metadata": {},
   "source": [
    "## Numpy array and basics\n"
   ]
  },
  {
   "cell_type": "code",
   "execution_count": 2,
   "id": "ead635e6",
   "metadata": {},
   "outputs": [],
   "source": [
    "import numpy as np "
   ]
  },
  {
   "cell_type": "markdown",
   "id": "9255e50e",
   "metadata": {},
   "source": [
    "### Creating array from list"
   ]
  },
  {
   "cell_type": "code",
   "execution_count": 8,
   "id": "7244acaf",
   "metadata": {},
   "outputs": [
    {
     "name": "stdout",
     "output_type": "stream",
     "text": [
      "1D array:  [1 2 3 4 5]\n",
      "2D array: \n",
      "[[1 2 3]\n",
      " [4 5 6]]\n"
     ]
    }
   ],
   "source": [
    "arr_1d = np.array([1,2,3,4,5])\n",
    "print(\"1D array: \", arr_1d)\n",
    "\n",
    "arr_2d = np.array([[1,2,3],\n",
    "                  [4,5,6]])\n",
    "print(f\"2D array: \\n{arr_2d}\")"
   ]
  },
  {
   "cell_type": "markdown",
   "id": "7dedbdba",
   "metadata": {},
   "source": [
    "### List vs numpy array"
   ]
  },
  {
   "cell_type": "code",
   "execution_count": null,
   "id": "22c1d9e6",
   "metadata": {},
   "outputs": [],
   "source": [
    "py_list = [1,2,3]\n",
    "print(f\"Python list multiplication: {py_list*2}\")\n",
    "\n",
    "#numpy array\n",
    "np_array = np.array([1,2,3]) #element wise multiplication\n",
    "print(f\"Numpy array multiplication: {np_array*2}\")\n",
    "\n",
    "import time\n",
    "start = time.time()\n",
    "py_list = [i*2 for i in range(100000000)]\n",
    "print(\"\\n List operation time: \", time.time() - start )\n",
    "\n",
    "\n",
    "start2 = time.time()\n",
    "np_array = np.arange(100000000)\n",
    "print(\"\\n Numpy array operation time: \", time.time() - start2 )"
   ]
  },
  {
   "cell_type": "markdown",
   "id": "787fc581",
   "metadata": {},
   "source": [
    "### creating array from scratch"
   ]
  },
  {
   "cell_type": "code",
   "execution_count": null,
   "id": "0b165dc4",
   "metadata": {},
   "outputs": [],
   "source": [
    "print('------Zeros Array-------')\n",
    "zeros = np.zeros((3,4))\n",
    "print(\"Zeros array: \\n\", zeros)\n",
    "\n",
    "print('------Ones Array-------')\n",
    "ones = np.ones((2,3))\n",
    "print(\"Ones array: \\n\", ones)\n",
    "\n",
    "print('------Constant Array-------')\n",
    "full = np.full((2,2), 7)\n",
    "print(\"Constant/Full array: \\n\", full)\n",
    "\n",
    "print('------Random Array-------')\n",
    "random = np.random.random((5,5)) #random values are always between 0s and 1s\n",
    "print(\"Random array: \\n\", random)\n",
    "\n",
    "print('------Sequence Array-------')\n",
    "\n",
    "sequence = np.arange(0, 10, 2)\n",
    "print(\"Sequence array: \\n\", sequence)\n"
   ]
  },
  {
   "cell_type": "markdown",
   "id": "5b3dd96b",
   "metadata": {},
   "source": [
    "### Vector, Matrix and Tensor"
   ]
  },
  {
   "cell_type": "code",
   "execution_count": 3,
   "id": "57b784b4",
   "metadata": {},
   "outputs": [
    {
     "name": "stdout",
     "output_type": "stream",
     "text": [
      "\n",
      "------Vector Array-----------\n",
      "\n",
      "Vector array:  [1 2 3 4]\n",
      "\n",
      "------Matrix Array-----------\n",
      "\n",
      "Matrix array: \n",
      " [[1 2 3]\n",
      " [4 5 6]]\n",
      "\n",
      "------Tensor Array-----------\n",
      "\n",
      "Tensor array: \n",
      " [[[1 2]\n",
      "  [3 4]]\n",
      "\n",
      " [[5 6]\n",
      "  [7 8]]]\n"
     ]
    }
   ],
   "source": [
    "print()\n",
    "print('------Vector Array-----------')\n",
    "print()\n",
    "vector = np.array([1,2,3,4])\n",
    "print(\"Vector array: \", vector)\n",
    "\n",
    "print()\n",
    "print('------Matrix Array-----------')\n",
    "print()\n",
    "matrix= np.array([[1,2,3],\n",
    "                  [4,5,6]]) #2d arrays are called matrix\n",
    "print(\"Matrix array: \\n\", matrix)\n",
    "\n",
    "print()\n",
    "print('------Tensor Array-----------')\n",
    "print()\n",
    "\n",
    "tensor = np.array([[[1,2],[3,4]],[[5,6],[7,8]]]) #tensor is actually multi dimensional array\n",
    "print(\"Tensor array: \\n\", tensor)\n"
   ]
  },
  {
   "cell_type": "markdown",
   "id": "e0e4e8ef",
   "metadata": {},
   "source": [
    "### Array properties "
   ]
  },
  {
   "cell_type": "code",
   "execution_count": 14,
   "id": "ebf5d9c7",
   "metadata": {},
   "outputs": [
    {
     "name": "stdout",
     "output_type": "stream",
     "text": [
      "Shape of array:  (3, 3)\n",
      "Dimension of array:  2\n",
      "Size of array:  9\n",
      "Data types of array:  int64\n"
     ]
    }
   ],
   "source": [
    "arr = np.array([\n",
    "                \n",
    "                [1,2,3],\n",
    "                [4,5,6],\n",
    "                [6,7,8]\n",
    "                \n",
    "                ])\n",
    "\n",
    "print(\"Shape of array: \", arr.shape) # shows rows and columns\n",
    "print(\"Dimension of array: \", arr.ndim) # Shows dimension eg(1d , 2d, 3d, etc)\n",
    "print(\"Size of array: \", arr.size) # Shows number of elements\n",
    "print(\"Data types of array: \", arr.dtype) # Shows Data types\n"
   ]
  },
  {
   "cell_type": "markdown",
   "id": "72ef874b",
   "metadata": {},
   "source": [
    "### Array Reshaping\n"
   ]
  },
  {
   "cell_type": "code",
   "execution_count": 28,
   "id": "e6884ea0",
   "metadata": {},
   "outputs": [
    {
     "name": "stdout",
     "output_type": "stream",
     "text": [
      "---------Normal Array------------\n",
      "Original Array:  [ 0  1  2  3  4  5  6  7  8  9 10 11]\n",
      "\n",
      "---------Reshaped Array------------\n",
      "Reshaped : \n",
      " [[ 0  1]\n",
      " [ 2  3]\n",
      " [ 4  5]\n",
      " [ 6  7]\n",
      " [ 8  9]\n",
      " [10 11]]\n",
      "\n",
      "---------Flattened Array------------\n",
      "Flattened: \n",
      " [ 0  1  2  3  4  5  6  7  8  9 10 11]\n",
      "\n",
      "---------Raveled Array------------\n",
      "Raveled: \n",
      " [ 0  1  2  3  4  5  6  7  8  9 10 11]\n",
      "Transpose: \n",
      " [[ 0  2  4  6  8 10]\n",
      " [ 1  3  5  7  9 11]]\n"
     ]
    }
   ],
   "source": [
    "print('---------Normal Array------------')\n",
    "arr = np.arange(12)\n",
    "print(\"Original Array: \", arr)\n",
    "\n",
    "print()\n",
    "print('---------Reshaped Array------------')\n",
    "reshaped = arr.reshape((6,2))\n",
    "print(\"Reshaped : \\n\", reshaped)\n",
    "\n",
    "print()\n",
    "print('---------Flattened Array------------')\n",
    "Flattened = reshaped.flatten()\n",
    "print('Flattened: \\n', Flattened)\n",
    "\n",
    "\n",
    "print()\n",
    "print('---------Raveled Array------------')\n",
    "# ravel (returns view, instead of copy)\n",
    "raveled = reshaped.ravel()\n",
    "print('Raveled: \\n', raveled)\n",
    "\n",
    "\n",
    "#Transpose\n",
    "\n",
    "transpose = reshaped.T\n",
    "\n",
    "print('Transpose: \\n', transpose)\n"
   ]
  },
  {
   "cell_type": "code",
   "execution_count": null,
   "id": "9209d619",
   "metadata": {},
   "outputs": [],
   "source": []
  }
 ],
 "metadata": {
  "kernelspec": {
   "display_name": "myenv",
   "language": "python",
   "name": "python3"
  },
  "language_info": {
   "codemirror_mode": {
    "name": "ipython",
    "version": 3
   },
   "file_extension": ".py",
   "mimetype": "text/x-python",
   "name": "python",
   "nbconvert_exporter": "python",
   "pygments_lexer": "ipython3",
   "version": "3.12.10"
  }
 },
 "nbformat": 4,
 "nbformat_minor": 5
}
